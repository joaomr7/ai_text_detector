{
 "cells": [
  {
   "cell_type": "markdown",
   "metadata": {},
   "source": [
    "# **3. Data Preparation**\n",
    "\n",
    "In this section I'll create methods to preprocess the training data available in `artifacts/train.csv` (at root, after running data_ingestion.py).\n",
    "\n",
    "Based on the `2. Exploratory Data Analysis`, I have to do the following transfomations in the data:\n",
    "\n",
    "1. **Tokenize text**\n",
    "\n",
    "2. **Calculate reading ease score**\n",
    "\n",
    "3. **Calculate lexical diversity**\n",
    "\n",
    "4. **Remove stopwords**\n",
    "\n",
    "5. **Remove irrelevant information (can be anything that has letters)**\n",
    "\n",
    "7. **Fix typos**\n",
    "\n",
    "8. **Remove nouns**\n",
    "\n",
    "9. **Texts to vectors**\n",
    "\n",
    "\n",
    "**Obs:**\n",
    "* Before any text manipulation, the text need to be tokenize. That's why has `1.`;\n",
    "\n",
    "* Before generating the text vector representation, typos must be fix. That's why has `7.`;\n",
    "\n",
    "* I need a way to tranform the texts into vectors. And the way I'll handle it is with word2vec. That's why has `9.`;"
   ]
  },
  {
   "cell_type": "markdown",
   "metadata": {},
   "source": [
    "## **Importing libraries**"
   ]
  },
  {
   "cell_type": "code",
   "execution_count": 2,
   "metadata": {},
   "outputs": [],
   "source": [
    "import re\n",
    "\n",
    "import pandas as pd\n",
    "import numpy as np\n",
    "import matplotlib.pyplot as plt\n",
    "from scipy.stats import probplot\n",
    "\n",
    "# text manipulation\n",
    "import spacy\n",
    "from spacy.tokens import Doc\n",
    "\n",
    "# text typos detection\n",
    "from symspellpy import SymSpell, Verbosity\n",
    "import importlib.resources\n",
    "\n",
    "# text statistics\n",
    "import textstat\n",
    "\n",
    "# scaling\n",
    "from sklearn.preprocessing import MinMaxScaler"
   ]
  },
  {
   "cell_type": "markdown",
   "metadata": {},
   "source": [
    "## **Setting up libraries**"
   ]
  },
  {
   "cell_type": "code",
   "execution_count": 3,
   "metadata": {},
   "outputs": [],
   "source": [
    "# setting up spacy and disabling unused pipeline components\n",
    "nlp = spacy.load('en_core_web_md', disable=['parser', 'ner', 'lemmatizer', 'textcat', 'custom'])"
   ]
  },
  {
   "cell_type": "code",
   "execution_count": 4,
   "metadata": {},
   "outputs": [],
   "source": [
    "# setting up SymSpell to typo detection\n",
    "sym_spell = SymSpell(max_dictionary_edit_distance=1, prefix_length=7)\n",
    "\n",
    "with importlib.resources.open_text('symspellpy', 'frequency_dictionary_en_82_765.txt') as file:\n",
    "    dictionary_path = file.name\n",
    "    sym_spell.load_dictionary(dictionary_path, term_index=0, count_index=1)"
   ]
  },
  {
   "cell_type": "markdown",
   "metadata": {},
   "source": [
    "## **Loading training dataset**"
   ]
  },
  {
   "cell_type": "code",
   "execution_count": 5,
   "metadata": {},
   "outputs": [],
   "source": [
    "data = pd.read_csv('../artifacts/train.csv')"
   ]
  },
  {
   "cell_type": "code",
   "execution_count": 6,
   "metadata": {},
   "outputs": [
    {
     "data": {
      "text/html": [
       "<div>\n",
       "<style scoped>\n",
       "    .dataframe tbody tr th:only-of-type {\n",
       "        vertical-align: middle;\n",
       "    }\n",
       "\n",
       "    .dataframe tbody tr th {\n",
       "        vertical-align: top;\n",
       "    }\n",
       "\n",
       "    .dataframe thead th {\n",
       "        text-align: right;\n",
       "    }\n",
       "</style>\n",
       "<table border=\"1\" class=\"dataframe\">\n",
       "  <thead>\n",
       "    <tr style=\"text-align: right;\">\n",
       "      <th></th>\n",
       "      <th>text</th>\n",
       "      <th>generated</th>\n",
       "    </tr>\n",
       "  </thead>\n",
       "  <tbody>\n",
       "    <tr>\n",
       "      <th>0</th>\n",
       "      <td>The \"Face on mars\" is just a natural landform....</td>\n",
       "      <td>0</td>\n",
       "    </tr>\n",
       "    <tr>\n",
       "      <th>1</th>\n",
       "      <td>Imagine a life without cars. All those paved r...</td>\n",
       "      <td>0</td>\n",
       "    </tr>\n",
       "    <tr>\n",
       "      <th>2</th>\n",
       "      <td>The temperature in Venus is over 800 degress, ...</td>\n",
       "      <td>0</td>\n",
       "    </tr>\n",
       "    <tr>\n",
       "      <th>3</th>\n",
       "      <td>Cars are one of the main causes of air polluti...</td>\n",
       "      <td>0</td>\n",
       "    </tr>\n",
       "    <tr>\n",
       "      <th>4</th>\n",
       "      <td>]\\n\\nDear Senator [Senator's Last Name],\\n\\nI ...</td>\n",
       "      <td>1</td>\n",
       "    </tr>\n",
       "  </tbody>\n",
       "</table>\n",
       "</div>"
      ],
      "text/plain": [
       "                                                text  generated\n",
       "0  The \"Face on mars\" is just a natural landform....          0\n",
       "1  Imagine a life without cars. All those paved r...          0\n",
       "2  The temperature in Venus is over 800 degress, ...          0\n",
       "3  Cars are one of the main causes of air polluti...          0\n",
       "4  ]\\n\\nDear Senator [Senator's Last Name],\\n\\nI ...          1"
      ]
     },
     "execution_count": 6,
     "metadata": {},
     "output_type": "execute_result"
    }
   ],
   "source": [
    "# show first rows\n",
    "data.head()"
   ]
  },
  {
   "cell_type": "markdown",
   "metadata": {},
   "source": [
    "## **Data Transformation**\n",
    "\n",
    "I'll make all the required tranformation into an unique function even to obtain better performance."
   ]
  },
  {
   "cell_type": "code",
   "execution_count": 10,
   "metadata": {},
   "outputs": [],
   "source": [
    "def prepare_model_data(data):\n",
    "    '''\n",
    "    Helper function to prepare data to the ML model. \n",
    "    This function applies:\n",
    "        * text tokenization\n",
    "        * stopwords removing\n",
    "        * irrelevant information removing\n",
    "        * nouns removing\n",
    "        * typos fixing\n",
    "        * word2vec with spacy\n",
    "        \n",
    "    Also, this function calculate:\n",
    "        * lexical diversity score\n",
    "        * reading ease score\n",
    "\n",
    "    Parameters\n",
    "    ---\n",
    "    * data: text data to prepare the data\n",
    "    \n",
    "    Returns\n",
    "    ---\n",
    "    * a numpy array with the columns: 300 size vector (representing the text), lexical_deversity_score and reading_ease_score\n",
    "\n",
    "    '''\n",
    "\n",
    "    # tranfrom texts in spacy docs (wich applies tokenization)\n",
    "    docs = [doc for doc in nlp.pipe(data)]\n",
    "\n",
    "    text_vectors = []\n",
    "    reading_ease_scores = []\n",
    "    lexical_diversity_scores = []\n",
    "\n",
    "    def calculate_reading_ease_score(text: str) -> int:\n",
    "        '''\n",
    "        Helper function to calculate reading ease score.\n",
    "        '''\n",
    "        try:\n",
    "            return textstat.flesch_reading_ease(text)\n",
    "        except ZeroDivisionError:\n",
    "            return 0\n",
    "        \n",
    "    def calculate_lexical_diversity_score(doc: Doc) -> float:\n",
    "        '''\n",
    "        Helper function to calculate lexical diversity from the given spacy doc.\n",
    "        '''\n",
    "\n",
    "        # get words count\n",
    "        total_words_count = len(doc)\n",
    "        unique_words_count = len(set(token.text.lower() for token in doc))\n",
    "\n",
    "        if total_words_count == 0:\n",
    "            return 0.0\n",
    "        else:\n",
    "            return unique_words_count / total_words_count\n",
    "\n",
    "    for doc in docs:\n",
    "\n",
    "        # reading ease score\n",
    "        reading_ease_scores.append(calculate_reading_ease_score(doc.text))\n",
    "\n",
    "        # lexical diversity score\n",
    "        lexical_diversity_scores.append(calculate_lexical_diversity_score(doc))\n",
    "\n",
    "        words = []\n",
    "        spaces = []\n",
    "        for token in doc:\n",
    "            if token.is_stop or not re.match('[a-zA-Z]', token.text): # ignore stopwords and irrelevant information\n",
    "                continue\n",
    "\n",
    "            if token.pos_ in ['NOUN', 'PROPN']: # ignore nouns\n",
    "                continue\n",
    "\n",
    "            word = token.text.lower()\n",
    "\n",
    "            # check if it has vector representaion\n",
    "            if not token.has_vector:\n",
    "                # lookup for typo\n",
    "                suggestions = sym_spell.lookup(word, Verbosity.CLOSEST, max_edit_distance=1)\n",
    "\n",
    "                # check if has any suggestion\n",
    "                if not suggestions:\n",
    "                    continue\n",
    "\n",
    "                # fix typo to the closest suggestion\n",
    "                word = suggestions[0].term\n",
    "                    \n",
    "            words.append(word)\n",
    "            spaces.append(token.whitespace_)\n",
    "\n",
    "        # create and add text vector to list\n",
    "        clean_doc = Doc(vocab=nlp.vocab, words=words, spaces=spaces)\n",
    "        text_vectors.append(clean_doc.vector)\n",
    "\n",
    "    # return numpy array\n",
    "    return np.column_stack([text_vectors, lexical_diversity_scores, reading_ease_scores])"
   ]
  },
  {
   "cell_type": "code",
   "execution_count": 11,
   "metadata": {},
   "outputs": [],
   "source": [
    "# prepare the data\n",
    "prepared_data = prepare_model_data(data.text)"
   ]
  },
  {
   "cell_type": "code",
   "execution_count": 12,
   "metadata": {},
   "outputs": [
    {
     "name": "stdout",
     "output_type": "stream",
     "text": [
      "Prepared data shape: (23298, 302)\n"
     ]
    }
   ],
   "source": [
    "print('Prepared data shape:', prepared_data.shape)"
   ]
  },
  {
   "cell_type": "markdown",
   "metadata": {},
   "source": [
    "### **Applying Data Scaling**\n",
    "\n",
    "My input data has the following structure:\n",
    "\n",
    "* the first 300 data are related to the wor2vec representation of the text;\n",
    "\n",
    "* then lexical_diversity_scores;\n",
    "\n",
    "* and finally reading_ease_scores.\n",
    "\n",
    "My plan to apply scaling here is the following:\n",
    "\n",
    "* for the text representation part, I'll use MinMaxScaler, because I'm just interested in cosine similarity (that way size doesn't matters);\n",
    "\n",
    "* make a prob plot for the other 2 variables to see if them follows a normal distribution, then, if they follow, I'll use StandardScaler, else I'll use MinMaxScaler."
   ]
  },
  {
   "cell_type": "code",
   "execution_count": 13,
   "metadata": {},
   "outputs": [
    {
     "data": {
      "image/png": "[encoded data removed]",
      "text/plain": [
       "<Figure size 2000x800 with 2 Axes>"
      ]
     },
     "metadata": {},
     "output_type": "display_data"
    }
   ],
   "source": [
    "# create plot\n",
    "fig, (ax0, ax1) = plt.subplots(nrows=1, ncols=2, figsize=(20, 8))\n",
    "\n",
    "# plot probplot\n",
    "probplot(prepared_data[:, 300], dist='norm', plot=ax0)\n",
    "probplot(prepared_data[:, 301], dist='norm', plot=ax1)\n",
    "\n",
    "# config plot\n",
    "ax0.set_title('lexical_diversity_score')\n",
    "ax1.set_title('reading_ease_score')\n",
    "\n",
    "plt.show()"
   ]
  },
  {
   "cell_type": "markdown",
   "metadata": {},
   "source": [
    "**Observations:**\n",
    "\n",
    "\n",
    "* reading_ease_score: almost fit entirely well on the red line except by the start, dued to it, it has no normal distribution;\n",
    "\n",
    "* lexical_diversity_score: doesn't fit the red line very well, it means that it doesn't have a normal distribution.\n",
    "\n",
    "Because of this I'll use MinMaxScaler in the entire data."
   ]
  },
  {
   "cell_type": "code",
   "execution_count": 14,
   "metadata": {},
   "outputs": [],
   "source": [
    "prepared_data_scaled = prepared_data\n",
    "\n",
    "# apply min max scaler\n",
    "min_max_scaler = MinMaxScaler()\n",
    "prepared_data_scaled = min_max_scaler.fit_transform(prepared_data_scaled)"
   ]
  },
  {
   "cell_type": "code",
   "execution_count": 15,
   "metadata": {},
   "outputs": [
    {
     "data": {
      "text/plain": [
       "array([[0.35093919, 0.23493821, 0.67018138, ..., 0.43550202, 0.5814953 ,\n",
       "        0.96044471],\n",
       "       [0.46927688, 0.33745541, 0.42420932, ..., 0.49967561, 0.41867192,\n",
       "        0.95871955],\n",
       "       [0.59129749, 0.35329789, 0.53893817, ..., 0.25683212, 0.44180491,\n",
       "        0.96711256],\n",
       "       ...,\n",
       "       [0.3108346 , 0.30845074, 0.48958142, ..., 0.42142914, 0.33730815,\n",
       "        0.94297411],\n",
       "       [0.30828473, 0.20954177, 0.54399575, ..., 0.43863488, 0.76488189,\n",
       "        0.91146953],\n",
       "       [0.0463097 , 0.27436381, 0.49330025, ..., 0.47226999, 0.37806657,\n",
       "        0.94630119]])"
      ]
     },
     "execution_count": 15,
     "metadata": {},
     "output_type": "execute_result"
    }
   ],
   "source": [
    "# show result\n",
    "prepared_data_scaled"
   ]
  },
  {
   "cell_type": "code",
   "execution_count": 16,
   "metadata": {},
   "outputs": [
    {
     "data": {
      "text/plain": [
       "(23298, 302)"
      ]
     },
     "execution_count": 16,
     "metadata": {},
     "output_type": "execute_result"
    }
   ],
   "source": [
    "# show result shape\n",
    "prepared_data_scaled.shape"
   ]
  }
 ],
 "metadata": {
  "kernelspec": {
   "display_name": "Python 3",
   "language": "python",
   "name": "python3"
  },
  "language_info": {
   "codemirror_mode": {
    "name": "ipython",
    "version": 3
   },
   "file_extension": ".py",
   "mimetype": "text/x-python",
   "name": "python",
   "nbconvert_exporter": "python",
   "pygments_lexer": "ipython3",
   "version": "3.10.0"
  }
 },
 "nbformat": 4,
 "nbformat_minor": 2
}
